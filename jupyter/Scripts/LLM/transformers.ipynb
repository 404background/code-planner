{
 "cells": [
  {
   "cell_type": "code",
   "execution_count": 2,
   "id": "821a7f6c-f962-48a6-b820-b4ccf30fe334",
   "metadata": {},
   "outputs": [
    {
     "name": "stderr",
     "output_type": "stream",
     "text": [
      "C:\\Users\\mgs_1\\Desktop\\github-workspace\\code-planner\\jupyter\\lib\\site-packages\\tqdm\\auto.py:21: TqdmWarning: IProgress not found. Please update jupyter and ipywidgets. See https://ipywidgets.readthedocs.io/en/stable/user_install.html\n",
      "  from .autonotebook import tqdm as notebook_tqdm\n",
      "No model was supplied, defaulted to distilbert-base-uncased-finetuned-sst-2-english and revision af0f99b (https://huggingface.co/distilbert-base-uncased-finetuned-sst-2-english).\n",
      "Using a pipeline without specifying a model name and revision in production is not recommended.\n",
      "config.json: 100%|████████████████████████████████████████████████████████████████████████████| 629/629 [00:00<?, ?B/s]\n",
      "model.safetensors: 100%|████████████████████████████████████████████████████████████| 268M/268M [00:14<00:00, 18.8MB/s]\n",
      "tokenizer_config.json: 100%|████████████████████████████████████████████████████████████████| 48.0/48.0 [00:00<?, ?B/s]\n",
      "vocab.txt: 100%|█████████████████████████████████████████████████████████████████████| 232k/232k [00:00<00:00, 719kB/s]\n",
      "No model was supplied, defaulted to distilbert-base-cased-distilled-squad and revision 626af31 (https://huggingface.co/distilbert-base-cased-distilled-squad).\n",
      "Using a pipeline without specifying a model name and revision in production is not recommended.\n",
      "config.json: 100%|████████████████████████████████████████████████████████████████████████████| 473/473 [00:00<?, ?B/s]\n",
      "model.safetensors: 100%|████████████████████████████████████████████████████████████| 261M/261M [00:14<00:00, 18.2MB/s]\n",
      "tokenizer_config.json: 100%|████████████████████████████████████████████████████████████████| 29.0/29.0 [00:00<?, ?B/s]\n",
      "vocab.txt: 100%|█████████████████████████████████████████████████████████████████████| 213k/213k [00:00<00:00, 690kB/s]\n",
      "tokenizer.json: 100%|████████████████████████████████████████████████████████████████| 436k/436k [00:00<00:00, 831kB/s]\n",
      "No model was supplied, defaulted to distilroberta-base and revision ec58a5b (https://huggingface.co/distilroberta-base).\n",
      "Using a pipeline without specifying a model name and revision in production is not recommended.\n",
      "config.json: 100%|████████████████████████████████████████████████████████████████████| 480/480 [00:00<00:00, 58.9kB/s]\n",
      "model.safetensors: 100%|████████████████████████████████████████████████████████████| 331M/331M [00:15<00:00, 20.7MB/s]\n",
      "Some weights of the model checkpoint at distilroberta-base were not used when initializing RobertaForMaskedLM: ['roberta.pooler.dense.weight', 'roberta.pooler.dense.bias']\n",
      "- This IS expected if you are initializing RobertaForMaskedLM from the checkpoint of a model trained on another task or with another architecture (e.g. initializing a BertForSequenceClassification model from a BertForPreTraining model).\n",
      "- This IS NOT expected if you are initializing RobertaForMaskedLM from the checkpoint of a model that you expect to be exactly identical (initializing a BertForSequenceClassification model from a BertForSequenceClassification model).\n",
      "vocab.json: 100%|███████████████████████████████████████████████████████████████████| 899k/899k [00:00<00:00, 1.44MB/s]\n",
      "merges.txt: 100%|███████████████████████████████████████████████████████████████████| 456k/456k [00:00<00:00, 2.17MB/s]\n",
      "tokenizer.json: 100%|█████████████████████████████████████████████████████████████| 1.36M/1.36M [00:00<00:00, 8.41MB/s]\n",
      "No model was supplied, defaulted to distilbert-base-cased and revision 935ac13 (https://huggingface.co/distilbert-base-cased).\n",
      "Using a pipeline without specifying a model name and revision in production is not recommended.\n",
      "config.json: 100%|████████████████████████████████████████████████████████████████████████████| 465/465 [00:00<?, ?B/s]\n",
      "model.safetensors: 100%|████████████████████████████████████████████████████████████| 263M/263M [00:14<00:00, 17.8MB/s]\n",
      "tokenizer_config.json: 100%|████████████████████████████████████████████████████████████████| 29.0/29.0 [00:00<?, ?B/s]\n",
      "vocab.txt: 100%|████████████████████████████████████████████████████████████████████████████| 213k/213k [00:00<?, ?B/s]\n",
      "tokenizer.json: 100%|███████████████████████████████████████████████████████████████| 436k/436k [00:00<00:00, 6.44MB/s]\n"
     ]
    }
   ],
   "source": [
    "import torch\n",
    "from transformers import pipeline\n",
    "sentiment_analysis = pipeline('sentiment-analysis')\n",
    "question_answering = pipeline('question-answering')\n",
    "fill_mask = pipeline(\"fill-mask\")\n",
    "feature_extraction = pipeline(\"feature-extraction\")\n"
   ]
  },
  {
   "cell_type": "code",
   "execution_count": 3,
   "id": "77ddb7cc-cabf-456f-9028-aa590fd4c2b8",
   "metadata": {},
   "outputs": [
    {
     "data": {
      "text/plain": [
       "[{'label': 'NEGATIVE', 'score': 0.9692757725715637}]"
      ]
     },
     "execution_count": 3,
     "metadata": {},
     "output_type": "execute_result"
    }
   ],
   "source": [
    "sentiment_analysis(\"Because of the pandemic, I decided to refrain from going out.\")\n",
    "# => [{'label': 'NEGATIVE', 'score': 0.9692758917808533}]\n"
   ]
  },
  {
   "cell_type": "code",
   "execution_count": 4,
   "id": "acae4576-2606-4933-9d5d-b1d5e4c55bd8",
   "metadata": {},
   "outputs": [
    {
     "data": {
      "text/plain": [
       "{'score': 0.6690454483032227, 'start': 4, 'end': 15, 'answer': 'coronavirus'}"
      ]
     },
     "execution_count": 4,
     "metadata": {},
     "output_type": "execute_result"
    }
   ],
   "source": [
    "question_answering({\n",
    "    'question': 'What is the cause of the pandemic?',\n",
    "    'context' : 'The coronavirus triggered an outbreak, and society was thrown into chaos.'\n",
    "})\n",
    "# => {'answer': 'coronavirus', 'end': 15, 'score': 0.6689822122523879, 'start': 4}\n"
   ]
  },
  {
   "cell_type": "code",
   "execution_count": null,
   "id": "9dbdfa40-7135-4426-bba7-0887c0888227",
   "metadata": {},
   "outputs": [],
   "source": []
  }
 ],
 "metadata": {
  "kernelspec": {
   "display_name": "Python 3 (ipykernel)",
   "language": "python",
   "name": "python3"
  },
  "language_info": {
   "codemirror_mode": {
    "name": "ipython",
    "version": 3
   },
   "file_extension": ".py",
   "mimetype": "text/x-python",
   "name": "python",
   "nbconvert_exporter": "python",
   "pygments_lexer": "ipython3",
   "version": "3.10.11"
  }
 },
 "nbformat": 4,
 "nbformat_minor": 5
}
